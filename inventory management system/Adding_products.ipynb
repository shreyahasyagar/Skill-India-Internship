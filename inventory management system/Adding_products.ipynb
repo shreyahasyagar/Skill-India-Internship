{
  "nbformat": 4,
  "nbformat_minor": 0,
  "metadata": {
    "colab": {
      "name": "Adding_products.ipynb",
      "provenance": []
    },
    "kernelspec": {
      "name": "python3",
      "display_name": "Python 3"
    },
    "language_info": {
      "name": "python"
    }
  },
  "cells": [
    {
      "cell_type": "markdown",
      "metadata": {
        "id": "QtR9d0uFvCgB"
      },
      "source": [
        "**Reading Data from JSON**"
      ]
    },
    {
      "cell_type": "code",
      "metadata": {
        "id": "ltBotqCegjrd"
      },
      "source": [
        "import json\n"
      ],
      "execution_count": 16,
      "outputs": []
    },
    {
      "cell_type": "code",
      "metadata": {
        "id": "pH7N9ggPjL5p"
      },
      "source": [
        "fd = open(\"record.json\",'r')\n",
        "r = fd.read()\n",
        "fd.close()\n",
        "\n",
        "record = json.loads(r)\n"
      ],
      "execution_count": 17,
      "outputs": []
    },
    {
      "cell_type": "code",
      "metadata": {
        "colab": {
          "base_uri": "https://localhost:8080/"
        },
        "id": "nySWxFySjQVG",
        "outputId": "f439bbaa-3b24-40e7-8d11-101905a34678"
      },
      "source": [
        "record"
      ],
      "execution_count": 18,
      "outputs": [
        {
          "output_type": "execute_result",
          "data": {
            "text/plain": [
              "{'101': {'name': 'Rice', 'pr': 100, 'qn': 34},\n",
              " '102': {'name': 'sugar', 'pr': 40, 'qn': 100},\n",
              " '103': {'name': 'Wheat', 'pr': 44, 'qn': 50},\n",
              " '104': {'name': 'tea powder', 'pr': 56, 'qn': 100},\n",
              " '105': {'name': 'Pen', 'pr': 20, 'qn': 100},\n",
              " '106': {'name': 'Photo frame', 'pr': 500, 'qn': 10},\n",
              " '107': {'name': 'eraser', 'pr': 5, 'qn': 100},\n",
              " '108': {'name': 'Cooker', 'pr': 599, 'qn': 25},\n",
              " '109': {'name': 'umbrella', 'pr': 30, 'qn': 60},\n",
              " '110': {'name': 'Book', 'pr': 20, 'qn': 200},\n",
              " '111': {'name': 'pencil', 'pr': 3, 'qn': 50},\n",
              " '112': {'name': 'chocolate', 'pr': 5, 'qn': 1000},\n",
              " '113': {'name': 'A4 sheets', 'pr': 5, 'qn': 100},\n",
              " '114': {'name': 'Cornflakes', 'pr': 40, 'qn': 50},\n",
              " '115': {'name': 'coffee powder', 'pr': 40, 'qn': 100},\n",
              " '116': {'name': 'Pen pencil', 'pr': 30, 'qn': 50},\n",
              " '117': {'name': 'soap', 'pr': 15, 'qn': 100},\n",
              " '118': {'name': 'shampoo', 'pr': 59, 'qn': 100},\n",
              " '119': {'name': 'Cookie', 'pr': 60, 'qn': 25},\n",
              " '120': {'name': 'Biscuits', 'pr': 30, 'qn': 80},\n",
              " '121': {'name': 'Rubber bands', 'pr': 10, 'qn': 200},\n",
              " '122': {'name': 'Ruler', 'pr': 5, 'qn': 50},\n",
              " '123': {'name': 'Ketchup', 'pr': 30, 'qn': 85},\n",
              " '124': {'name': 'Face wash', 'pr': 108, 'qn': 20},\n",
              " '125': {'name': 'face cream', 'pr': 90, 'qn': 40},\n",
              " '126': {'name': 'chips', 'pr': 30, 'qn': 120},\n",
              " '127': {'name': 'razor', 'pr': 60, 'qn': 150},\n",
              " '128': {'name': 'Noodles', 'pr': 50, 'qn': 60},\n",
              " '129': {'name': 'bed sheets', 'pr': 299, 'qn': 30},\n",
              " '130': {'name': 'helmets', 'pr': 1999, 'qn': 20},\n",
              " '131': {'name': 'badminton raquets', 'pr': 599, 'qn': 10},\n",
              " '132': {'name': 'shuttle', 'pr': 100, 'qn': 60},\n",
              " '133': {'name': 'oils', 'pr': 110, 'qn': 25},\n",
              " '134': {'name': 'pickle', 'pr': 40, 'qn': 60},\n",
              " '135': {'name': 'face powder', 'pr': 55, 'qn': 20}}"
            ]
          },
          "metadata": {},
          "execution_count": 18
        }
      ]
    },
    {
      "cell_type": "markdown",
      "metadata": {
        "id": "zVV9xP8XvL4x"
      },
      "source": [
        "**Adding new item**"
      ]
    },
    {
      "cell_type": "code",
      "metadata": {
        "colab": {
          "base_uri": "https://localhost:8080/"
        },
        "id": "sX633rHajX5R",
        "outputId": "22fd57b4-c927-447a-d4e7-2e4a83cbd6b7"
      },
      "source": [
        "prod_id = str(input(\"Enter product id:\"))\n",
        "name = str(input(\"Enter name:\"))\n",
        "pr = int(input(\"Enter price:\"))\n",
        "qn = int(input(\"Enter quantity:\"))\n",
        "\n",
        "record[prod_id] = {'name': name, 'pr': pr, 'qn': qn}\n",
        "\n"
      ],
      "execution_count": 19,
      "outputs": [
        {
          "name": "stdout",
          "output_type": "stream",
          "text": [
            "Enter product id:336\n",
            "Enter name:cheese\n",
            "Enter price:30\n",
            "Enter quantity:50\n"
          ]
        }
      ]
    },
    {
      "cell_type": "code",
      "metadata": {
        "colab": {
          "base_uri": "https://localhost:8080/"
        },
        "id": "nRgvQNCtjsPt",
        "outputId": "8de31e09-98f2-4e1f-ba42-a509a7dd906d"
      },
      "source": [
        "record"
      ],
      "execution_count": 20,
      "outputs": [
        {
          "output_type": "execute_result",
          "data": {
            "text/plain": [
              "{'101': {'name': 'Rice', 'pr': 100, 'qn': 34},\n",
              " '102': {'name': 'sugar', 'pr': 40, 'qn': 100},\n",
              " '103': {'name': 'Wheat', 'pr': 44, 'qn': 50},\n",
              " '104': {'name': 'tea powder', 'pr': 56, 'qn': 100},\n",
              " '105': {'name': 'Pen', 'pr': 20, 'qn': 100},\n",
              " '106': {'name': 'Photo frame', 'pr': 500, 'qn': 10},\n",
              " '107': {'name': 'eraser', 'pr': 5, 'qn': 100},\n",
              " '108': {'name': 'Cooker', 'pr': 599, 'qn': 25},\n",
              " '109': {'name': 'umbrella', 'pr': 30, 'qn': 60},\n",
              " '110': {'name': 'Book', 'pr': 20, 'qn': 200},\n",
              " '111': {'name': 'pencil', 'pr': 3, 'qn': 50},\n",
              " '112': {'name': 'chocolate', 'pr': 5, 'qn': 1000},\n",
              " '113': {'name': 'A4 sheets', 'pr': 5, 'qn': 100},\n",
              " '114': {'name': 'Cornflakes', 'pr': 40, 'qn': 50},\n",
              " '115': {'name': 'coffee powder', 'pr': 40, 'qn': 100},\n",
              " '116': {'name': 'Pen pencil', 'pr': 30, 'qn': 50},\n",
              " '117': {'name': 'soap', 'pr': 15, 'qn': 100},\n",
              " '118': {'name': 'shampoo', 'pr': 59, 'qn': 100},\n",
              " '119': {'name': 'Cookie', 'pr': 60, 'qn': 25},\n",
              " '120': {'name': 'Biscuits', 'pr': 30, 'qn': 80},\n",
              " '121': {'name': 'Rubber bands', 'pr': 10, 'qn': 200},\n",
              " '122': {'name': 'Ruler', 'pr': 5, 'qn': 50},\n",
              " '123': {'name': 'Ketchup', 'pr': 30, 'qn': 85},\n",
              " '124': {'name': 'Face wash', 'pr': 108, 'qn': 20},\n",
              " '125': {'name': 'face cream', 'pr': 90, 'qn': 40},\n",
              " '126': {'name': 'chips', 'pr': 30, 'qn': 120},\n",
              " '127': {'name': 'razor', 'pr': 60, 'qn': 150},\n",
              " '128': {'name': 'Noodles', 'pr': 50, 'qn': 60},\n",
              " '129': {'name': 'bed sheets', 'pr': 299, 'qn': 30},\n",
              " '130': {'name': 'helmets', 'pr': 1999, 'qn': 20},\n",
              " '131': {'name': 'badminton raquets', 'pr': 599, 'qn': 10},\n",
              " '132': {'name': 'shuttle', 'pr': 100, 'qn': 60},\n",
              " '133': {'name': 'oils', 'pr': 110, 'qn': 25},\n",
              " '134': {'name': 'pickle', 'pr': 40, 'qn': 60},\n",
              " '135': {'name': 'face powder', 'pr': 55, 'qn': 20},\n",
              " '336': {'name': 'cheese', 'pr': 30, 'qn': 50}}"
            ]
          },
          "metadata": {},
          "execution_count": 20
        }
      ]
    },
    {
      "cell_type": "code",
      "metadata": {
        "id": "b6voQP9c1qtW"
      },
      "source": [
        "js = json.dumps(record)\n",
        "\n",
        "fd = open(\"record.json\",'w')\n",
        "fd.write(js)\n",
        "fd.close()"
      ],
      "execution_count": 22,
      "outputs": []
    }
  ]
}