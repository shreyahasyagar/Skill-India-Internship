{
  "nbformat": 4,
  "nbformat_minor": 0,
  "metadata": {
    "colab": {
      "name": "Purchase.ipynb",
      "provenance": []
    },
    "kernelspec": {
      "name": "python3",
      "display_name": "Python 3"
    },
    "language_info": {
      "name": "python"
    }
  },
  "cells": [
    {
      "cell_type": "markdown",
      "metadata": {
        "id": "WT3MY5JgvX7G"
      },
      "source": [
        "**Read the items present**"
      ]
    },
    {
      "cell_type": "code",
      "metadata": {
        "id": "_aitKwPkj8g1"
      },
      "source": [
        "import json\n",
        "\n",
        "fd = open(\"record.json\",'r')\n",
        "r = fd.read()\n",
        "fd.close()\n",
        "\n",
        "records = json.loads(r)"
      ],
      "execution_count": 47,
      "outputs": []
    },
    {
      "cell_type": "code",
      "metadata": {
        "colab": {
          "base_uri": "https://localhost:8080/"
        },
        "id": "OWWoLRUqkXh2",
        "outputId": "e9da9ed6-58e5-4cdb-cc94-3892014dad65"
      },
      "source": [
        "records"
      ],
      "execution_count": 48,
      "outputs": [
        {
          "output_type": "execute_result",
          "data": {
            "text/plain": [
              "{'101': {'name': 'Rice', 'pr': 100, 'qn': 34},\n",
              " '102': {'name': 'sugar', 'pr': 40, 'qn': 100},\n",
              " '103': {'name': 'Wheat', 'pr': 44, 'qn': 50},\n",
              " '104': {'name': 'tea powder', 'pr': 56, 'qn': 100},\n",
              " '105': {'name': 'Pen', 'pr': 20, 'qn': 100},\n",
              " '106': {'name': 'Photo frame', 'pr': 500, 'qn': 10},\n",
              " '107': {'name': 'eraser', 'pr': 5, 'qn': 100},\n",
              " '108': {'name': 'Cooker', 'pr': 599, 'qn': 25},\n",
              " '109': {'name': 'umbrella', 'pr': 30, 'qn': 60},\n",
              " '110': {'name': 'Book', 'pr': 20, 'qn': 200},\n",
              " '111': {'name': 'pencil', 'pr': 3, 'qn': 50},\n",
              " '112': {'name': 'chocolate', 'pr': 5, 'qn': 1000},\n",
              " '113': {'name': 'A4 sheets', 'pr': 5, 'qn': 100},\n",
              " '114': {'name': 'Cornflakes', 'pr': 40, 'qn': 50},\n",
              " '115': {'name': 'coffee powder', 'pr': 40, 'qn': 100},\n",
              " '116': {'name': 'Pen pencil', 'pr': 30, 'qn': 50},\n",
              " '117': {'name': 'soap', 'pr': 15, 'qn': 100},\n",
              " '118': {'name': 'shampoo', 'pr': 59, 'qn': 100},\n",
              " '119': {'name': 'Cookie', 'pr': 60, 'qn': 25},\n",
              " '120': {'name': 'Biscuits', 'pr': 30, 'qn': 80},\n",
              " '121': {'name': 'Rubber bands', 'pr': 10, 'qn': 200},\n",
              " '122': {'name': 'Ruler', 'pr': 5, 'qn': 50},\n",
              " '123': {'name': 'Ketchup', 'pr': 30, 'qn': 85},\n",
              " '124': {'name': 'Face wash', 'pr': 108, 'qn': 20},\n",
              " '125': {'name': 'face cream', 'pr': 90, 'qn': 40},\n",
              " '126': {'name': 'chips', 'pr': 30, 'qn': 120},\n",
              " '127': {'name': 'razor', 'pr': 60, 'qn': 150},\n",
              " '128': {'name': 'Noodles', 'pr': 50, 'qn': 60},\n",
              " '129': {'name': 'bed sheets', 'pr': 299, 'qn': 30},\n",
              " '130': {'name': 'helmets', 'pr': 1999, 'qn': 20},\n",
              " '131': {'name': 'badminton raquets', 'pr': 599, 'qn': 10},\n",
              " '132': {'name': 'shuttle', 'pr': 100, 'qn': 60},\n",
              " '133': {'name': 'oils', 'pr': 110, 'qn': 25},\n",
              " '134': {'name': 'pickle', 'pr': 40, 'qn': 60},\n",
              " '135': {'name': 'face powder', 'pr': 55, 'qn': 20},\n",
              " '336': {'name': 'cheese', 'pr': 30, 'qn': 50}}"
            ]
          },
          "metadata": {},
          "execution_count": 48
        }
      ]
    },
    {
      "cell_type": "markdown",
      "metadata": {
        "id": "KkfSt4xcviGa"
      },
      "source": [
        "**Billing of items**"
      ]
    },
    {
      "cell_type": "code",
      "metadata": {
        "colab": {
          "base_uri": "https://localhost:8080/"
        },
        "id": "4afsOsdOkXlc",
        "outputId": "4917eeef-5235-4eff-d341-2858398005b3"
      },
      "source": [
        "ui_prod  = str(input(\"Enter the product_Id: \"))\n",
        "ui_quant = int(input(\"Enter the quantity: \"))\n",
        "\n",
        "print(\"***********************\")\n",
        "print(\"Product Id: \",ui_prod)\n",
        "print(\"Product: \", records[ui_prod]['name'])\n",
        "print(\"Price: \", records[ui_prod]['pr'])\n",
        "print(\"Quantity selected:\",ui_quant)\n",
        "print(\"---------------------------------\")\n",
        "print(\"Billing Amount: \", records[ui_prod]['pr'] * ui_quant)\n",
        "print(\"***********************\")\n",
        "\n",
        "records[ui_prod]['qn'] = records[ui_prod]['qn'] - ui_quant"
      ],
      "execution_count": 49,
      "outputs": [
        {
          "output_type": "stream",
          "name": "stdout",
          "text": [
            "Enter the product_Id: 132\n",
            "Enter the quantity: 2\n",
            "***********************\n",
            "Product Id:  132\n",
            "Product:  shuttle\n",
            "Price:  100\n",
            "Quantity selected: 2\n",
            "---------------------------------\n",
            "Billing Amount:  200\n",
            "***********************\n"
          ]
        }
      ]
    },
    {
      "cell_type": "markdown",
      "metadata": {
        "id": "emtfiXxSvn6z"
      },
      "source": [
        "**Update the existing inventory**"
      ]
    },
    {
      "cell_type": "code",
      "metadata": {
        "id": "UBQvpsvTkXm_"
      },
      "source": [
        "js = json.dumps(records)\n",
        "\n",
        "fd = open(\"record.json\",'w')\n",
        "fd.write(js)\n",
        "fd.close()"
      ],
      "execution_count": 64,
      "outputs": []
    },
    {
      "cell_type": "markdown",
      "metadata": {
        "id": "zPPCGDMGvvD-"
      },
      "source": [
        "**creating sales JSON file**"
      ]
    },
    {
      "cell_type": "code",
      "metadata": {
        "id": "CiNT22AIkXrF"
      },
      "source": [
        "sales = {1 : {'prod' : ui_prod, 'qn' : ui_quant, 'amount': records[ui_prod]['pr'] * ui_quant},\n",
        "         2 : {'prod' : ui_prod, 'qn' : ui_quant, 'amount': records[ui_prod]['pr'] * ui_quant},\n",
        "         3 : {'prod' : ui_prod, 'qn' : ui_quant, 'amount': records[ui_prod]['pr'] * ui_quant}}"
      ],
      "execution_count": 66,
      "outputs": []
    },
    {
      "cell_type": "code",
      "metadata": {
        "id": "0QUxKDmOkXtS"
      },
      "source": [
        "sale = json.dumps(s)"
      ],
      "execution_count": 67,
      "outputs": []
    },
    {
      "cell_type": "code",
      "metadata": {
        "id": "FoyyorDcoNRs"
      },
      "source": [
        "sales[(len(sales)+1)]={'prod' : ui_prod, 'qn' : ui_quant, 'amount': records[ui_prod]['pr'] * ui_quant}"
      ],
      "execution_count": 68,
      "outputs": []
    },
    {
      "cell_type": "markdown",
      "metadata": {
        "id": "eJqw8JP7v4_w"
      },
      "source": [
        "**generating sales JSON file**"
      ]
    },
    {
      "cell_type": "code",
      "metadata": {
        "id": "gyBgNjSHsChg"
      },
      "source": [
        "sale = json.dumps(sales)"
      ],
      "execution_count": 69,
      "outputs": []
    },
    {
      "cell_type": "code",
      "metadata": {
        "id": "LX4-vPc9phqA"
      },
      "source": [
        "fd=open(\"sales.json\",\"w\")\n",
        "s=fd.write(sale)\n",
        "fd.close()"
      ],
      "execution_count": 70,
      "outputs": []
    }
  ]
}